{
 "cells": [
  {
   "cell_type": "markdown",
   "metadata": {},
   "source": [
    "<a href='https://www.darshan.ac.in/'> <img src='https://www.darshan.ac.in/Content/media/DU_Logo.svg' width=\"250\" height=\"300\"/></a>\n",
    "<pre>\n",
    "<center><b><h1>Python Programming - 2301CS404</b></center>\n",
    "<center><b><h1>Lab - 10</b></center> \n",
    "<center><b><h1>Padhiyar meet</b> <b>23010101180</b></center>      \n",
    "<pre>"
   ]
  },
  {
   "cell_type": "markdown",
   "metadata": {},
   "source": [
    "# Exception Handling"
   ]
  },
  {
   "cell_type": "markdown",
   "metadata": {},
   "source": [
    "### 01) WAP to handle following exceptions:\n",
    "1. ZeroDivisionError\n",
    "2. ValueError\n",
    "3. TypeError\n",
    "#### Note: handle them using separate except blocks and also using single except block too."
   ]
  },
  {
   "cell_type": "code",
   "execution_count": 6,
   "metadata": {},
   "outputs": [
    {
     "name": "stdout",
     "output_type": "stream",
     "text": [
      "zero deviion error\n",
      "Value Error\n",
      "Type Error\n"
     ]
    }
   ],
   "source": [
    "try:\n",
    "    print(10/0)\n",
    "except ZeroDivisionError:\n",
    "    print('zero deviion error')\n",
    "try:\n",
    "    n = 'boogyman'\n",
    "    print(100/int(n))\n",
    "except ValueError:\n",
    "    print('Value Error')\n",
    "try:\n",
    "    lol = \"lol\"\n",
    "    num = 2\n",
    "    print(lol + num + lol)\n",
    "except TypeError:\n",
    "    print('Type Error')\n",
    "\n"
   ]
  },
  {
   "cell_type": "markdown",
   "metadata": {},
   "source": [
    "### 02)  WAP to handle following exceptions:\n",
    "1. IndexError\n",
    "2. KeyError"
   ]
  },
  {
   "cell_type": "code",
   "execution_count": 10,
   "metadata": {},
   "outputs": [
    {
     "name": "stdout",
     "output_type": "stream",
     "text": [
      "Index error\n",
      "Index error\n"
     ]
    }
   ],
   "source": [
    "try:\n",
    "    a = [1,2,3,4]\n",
    "    print(a[5])\n",
    "except IndexError:\n",
    "    print('Index error')\n",
    "\n",
    "try:\n",
    "    a = {'name' : 'lol'}\n",
    "    print(a['lol'])\n",
    "except KeyError:\n",
    "    print('Key error')"
   ]
  },
  {
   "cell_type": "markdown",
   "metadata": {},
   "source": [
    "### 03) WAP to handle following exceptions:\n",
    "1. FileNotFoundError\n",
    "2. ModuleNotFoundError"
   ]
  },
  {
   "cell_type": "code",
   "execution_count": 12,
   "metadata": {},
   "outputs": [
    {
     "name": "stdout",
     "output_type": "stream",
     "text": [
      "FIle not found\n",
      "Moule not found\n"
     ]
    }
   ],
   "source": [
    "try:\n",
    "    fp = open('lol.txt','r')\n",
    "except FileNotFoundError:\n",
    "    print('FIle not found')\n",
    "try:\n",
    "    import module_name\n",
    "except ModuleNotFoundError:\n",
    "    print('Moule not found')\n"
   ]
  },
  {
   "cell_type": "markdown",
   "metadata": {},
   "source": [
    "### 04) WAP that catches all type of exceptions in a single except block."
   ]
  },
  {
   "cell_type": "code",
   "execution_count": 14,
   "metadata": {},
   "outputs": [
    {
     "name": "stdout",
     "output_type": "stream",
     "text": [
      "\n"
     ]
    }
   ],
   "source": [
    "try:\n",
    "    print(100/0)\n",
    "except:\n",
    "    print('something vent Wrong !')"
   ]
  },
  {
   "cell_type": "code",
   "execution_count": null,
   "metadata": {},
   "outputs": [],
   "source": []
  },
  {
   "cell_type": "markdown",
   "metadata": {},
   "source": [
    "### 05) WAP to demonstrate else  and finally block."
   ]
  },
  {
   "cell_type": "code",
   "execution_count": 15,
   "metadata": {},
   "outputs": [
    {
     "name": "stdout",
     "output_type": "stream",
     "text": [
      "Zero devision\n",
      "This is last Statement\n"
     ]
    }
   ],
   "source": [
    "try:\n",
    "    print(100/0)\n",
    "except ZeroDivisionError:\n",
    "    print('Zero devision')\n",
    "else:\n",
    "    print('NO error accures')\n",
    "finally:\n",
    "    print('This is last Statement')\n"
   ]
  },
  {
   "cell_type": "markdown",
   "metadata": {},
   "source": [
    "### 06) Create a short program that prompts the user for a list of grades separated by commas. \n",
    "### Split the string into individual grades and use a list comprehension to convert each string to an integer. \n",
    "### You should use a try statement to inform the user when the values they entered cannot be converted."
   ]
  },
  {
   "cell_type": "code",
   "execution_count": 17,
   "metadata": {},
   "outputs": [
    {
     "name": "stdout",
     "output_type": "stream",
     "text": [
      "Grade cannot converted into int\n"
     ]
    }
   ],
   "source": [
    "try:\n",
    "    a = input('Enter grades').split(',')\n",
    "    a2 = [int(i) for i in a]\n",
    "except ValueError:\n",
    "    print('Grade cannot converted into int')\n",
    "else:\n",
    "    print('You enterd right numbers')\n"
   ]
  },
  {
   "cell_type": "markdown",
   "metadata": {},
   "source": [
    "### 07) WAP to create an udf divide(a,b) that handles ZeroDivisionError."
   ]
  },
  {
   "cell_type": "code",
   "execution_count": 20,
   "metadata": {},
   "outputs": [
    {
     "name": "stdout",
     "output_type": "stream",
     "text": [
      "Cannot devisible by Zero\n"
     ]
    }
   ],
   "source": [
    "def devide(a,b):\n",
    "    try:\n",
    "        print(a / b) \n",
    "    except ZeroDivisionError:\n",
    "        print('Cannot devisible by Zero')\n",
    "\n",
    "devide(5,0)"
   ]
  },
  {
   "cell_type": "markdown",
   "metadata": {},
   "source": [
    "### 08) WAP that gets an age of a person form the user and raises ValueError with error message: \"Enter Valid Age\" :\n",
    "#### If the age is less than 18. \n",
    "#### otherwise print the age."
   ]
  },
  {
   "cell_type": "code",
   "execution_count": 24,
   "metadata": {},
   "outputs": [
    {
     "name": "stdout",
     "output_type": "stream",
     "text": [
      "You are minor\n"
     ]
    }
   ],
   "source": [
    "class NegativeNumberError(Exception):\n",
    "    def __init__(self, msg):\n",
    "        self.msg = msg\n",
    "try:\n",
    "    age = int(input('Enter Age - '))\n",
    "\n",
    "    if(age < 18):\n",
    "        raise NegativeNumberError('You are minor')\n",
    "    else:\n",
    "        print(age)\n",
    "except NegativeNumberError as e:\n",
    "    print(e)\n"
   ]
  },
  {
   "cell_type": "code",
   "execution_count": null,
   "metadata": {},
   "outputs": [],
   "source": []
  },
  {
   "cell_type": "markdown",
   "metadata": {},
   "source": [
    "### 09) WAP to raise your custom Exception named InvalidUsernameError with the error message : \"Username must be between 5 and 15 characters long\":\n",
    "#### if the given name is having characters less than 5 or greater than 15.\n",
    "#### otherwise print the given username."
   ]
  },
  {
   "cell_type": "code",
   "execution_count": 29,
   "metadata": {},
   "outputs": [
    {
     "name": "stdout",
     "output_type": "stream",
     "text": [
      "Enter vaild username\n"
     ]
    }
   ],
   "source": [
    "class UsernameError(Exception):\n",
    "    def __init__(self, msg):\n",
    "        self.msg = msg\n",
    "try:\n",
    "    ussername = input('Enter ussername - ')\n",
    "\n",
    "    if(len(ussername) < 5 or len(ussername) > 15):\n",
    "        raise UsernameError('Enter vaild username')\n",
    "    else:\n",
    "        print(ussername)\n",
    "except UsernameError as e:\n",
    "    print(e)\n"
   ]
  },
  {
   "cell_type": "markdown",
   "metadata": {},
   "source": [
    "### 10) WAP to raise your custom Exception named NegativeNumberError with the error message : \"Cannot calculate the square root of a negative number\" :\n",
    "#### if the given number is negative.\n",
    "#### otherwise print the square root of the given number."
   ]
  },
  {
   "cell_type": "code",
   "execution_count": null,
   "metadata": {},
   "outputs": [
    {
     "name": "stdout",
     "output_type": "stream",
     "text": [
      "Number should not be less then 0\n"
     ]
    }
   ],
   "source": [
    "import math\n",
    "class NaagaativeNumError(Exception):\n",
    "    def __init__(self, msg):\n",
    "        self.msg = msg\n",
    "try:\n",
    "    n = int(input('Enter number - '))\n",
    "\n",
    "    if(n < 0):\n",
    "        raise NaagaativeNumError('Number should not be negative')\n",
    "    else:\n",
    "        print(math.sqrt(n))\n",
    "except NaagaativeNumError as e:\n",
    "    print(e)"
   ]
  },
  {
   "cell_type": "code",
   "execution_count": null,
   "metadata": {},
   "outputs": [],
   "source": []
  }
 ],
 "metadata": {
  "kernelspec": {
   "display_name": "base",
   "language": "python",
   "name": "python3"
  },
  "language_info": {
   "codemirror_mode": {
    "name": "ipython",
    "version": 3
   },
   "file_extension": ".py",
   "mimetype": "text/x-python",
   "name": "python",
   "nbconvert_exporter": "python",
   "pygments_lexer": "ipython3",
   "version": "3.12.7"
  }
 },
 "nbformat": 4,
 "nbformat_minor": 4
}
