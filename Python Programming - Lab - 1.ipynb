{
 "cells": [
  {
   "cell_type": "markdown",
   "metadata": {},
   "source": [
    "<a href='https://www.darshan.ac.in/'> <img src='https://www.darshan.ac.in/Content/media/DU_Logo.svg' width=\"250\" height=\"10\"/></a>\n",
    "<pre>\n",
    "<center><b><h1>Python Programming - 2301CS404</b></center>\n",
    "<center><b><h1>Lab - 1</b></center>   \n",
    "<center><b><h1>Padhiyar meet</b> <b>23010101180</b></center>    \n",
    "<pre>"
   ]
  },
  {
   "cell_type": "markdown",
   "metadata": {},
   "source": [
    "### 01) WAP to print “Hello World”"
   ]
  },
  {
   "cell_type": "code",
   "execution_count": null,
   "metadata": {},
   "outputs": [],
   "source": [
    "print(\"Hello word\")"
   ]
  },
  {
   "cell_type": "markdown",
   "metadata": {},
   "source": [
    "### 02) WAP to print addition of two numbers with and without using input()."
   ]
  },
  {
   "cell_type": "code",
   "execution_count": null,
   "metadata": {},
   "outputs": [],
   "source": [
    "a,b = 2,4\n",
    "print(a+b)"
   ]
  },
  {
   "cell_type": "markdown",
   "metadata": {},
   "source": [
    "### 03) WAP to check the type of the variable."
   ]
  },
  {
   "cell_type": "code",
   "execution_count": null,
   "metadata": {},
   "outputs": [],
   "source": [
    "a = 'meet'\n",
    "print(type(a))"
   ]
  },
  {
   "cell_type": "markdown",
   "metadata": {},
   "source": [
    "### 04) WAP to calculate simple interest."
   ]
  },
  {
   "cell_type": "code",
   "execution_count": null,
   "metadata": {},
   "outputs": [],
   "source": [
    "p = input(\"Enter principal\")\n",
    "r = input(\"Enter rate\")\n",
    "t = input(\"Enter time\")\n",
    "\n",
    "print((p*r*t)/100);\n"
   ]
  },
  {
   "cell_type": "markdown",
   "metadata": {},
   "source": [
    "### 05) WAP to calculate area and perimeter of a circle."
   ]
  },
  {
   "cell_type": "code",
   "execution_count": null,
   "metadata": {},
   "outputs": [],
   "source": [
    "import math;\n",
    "r = input(\"Enter radious of circle\")\n",
    "print(Math.pi*r*r)"
   ]
  },
  {
   "cell_type": "markdown",
   "metadata": {},
   "source": [
    "### 06) WAP to calculate area of a triangle."
   ]
  },
  {
   "cell_type": "code",
   "execution_count": null,
   "metadata": {},
   "outputs": [],
   "source": [
    "h = input(\"Enter Height\")\n",
    "b = input(\"Enter Base\")\n",
    "print(0.5*h*b)"
   ]
  },
  {
   "cell_type": "markdown",
   "metadata": {},
   "source": [
    "### 07) WAP to compute quotient and remainder."
   ]
  },
  {
   "cell_type": "code",
   "execution_count": null,
   "metadata": {},
   "outputs": [],
   "source": [
    "a = input(\"Enter 1st number\")\n",
    "b = input(\"Enter 2st number\")\n",
    "\n",
    "print(f\"a / b is..{a/b}\")\n",
    "print(f\"a % b is..{a%b}\")"
   ]
  },
  {
   "cell_type": "markdown",
   "metadata": {},
   "source": [
    "### 08) WAP to convert degree into Fahrenheit and vice versa."
   ]
  },
  {
   "cell_type": "code",
   "execution_count": null,
   "metadata": {},
   "outputs": [],
   "source": [
    "d = input(\"Enter in degree - \")\n",
    "\n",
    "print(f\"Temprature in ferenhight is -{(d*(9/5))+32}\")"
   ]
  },
  {
   "cell_type": "markdown",
   "metadata": {},
   "source": [
    "### 09) WAP to find the distance between two points in 2-D space."
   ]
  },
  {
   "cell_type": "code",
   "execution_count": null,
   "metadata": {},
   "outputs": [],
   "source": [
    "import math\n",
    "a1 = input(\"enter first number -\")\n",
    "b1 = input(\"enter second number -\")\n",
    "a2 = input(\"enter first number -\")\n",
    "b2 = input(\"enter second number -\")\n",
    "\n",
    "print(f\"distance between two points is -{math.sqrt(((a2-a1) ** 2) - (b2-b1 ** 2))}\")"
   ]
  },
  {
   "cell_type": "markdown",
   "metadata": {},
   "source": [
    "### 10) WAP to print sum of n natural numbers."
   ]
  },
  {
   "cell_type": "code",
   "execution_count": null,
   "metadata": {},
   "outputs": [],
   "source": [
    "a = input(\"enter a number -\")\n",
    "for i in a:\n",
    "    b = b + i;\n",
    "    print(b)"
   ]
  },
  {
   "cell_type": "markdown",
   "metadata": {},
   "source": [
    "### 11) WAP to print sum of square of n natural numbers."
   ]
  },
  {
   "cell_type": "code",
   "execution_count": null,
   "metadata": {},
   "outputs": [],
   "source": [
    "a = input(\"enter a number -\")\n",
    "for i in a:\n",
    "    b = i ** 2;\n",
    "    c = c + b;\n",
    "    print(c)"
   ]
  },
  {
   "cell_type": "markdown",
   "metadata": {},
   "source": [
    "### 12) WAP to concate the first and last name of the student."
   ]
  },
  {
   "cell_type": "code",
   "execution_count": null,
   "metadata": {},
   "outputs": [],
   "source": []
  },
  {
   "cell_type": "markdown",
   "metadata": {},
   "source": [
    "### 13) WAP to swap two numbers."
   ]
  },
  {
   "cell_type": "code",
   "execution_count": null,
   "metadata": {},
   "outputs": [],
   "source": [
    "a = input(\"Enter first number-\")\n",
    "b = input(\"Enter second number-\")\n",
    "c = a;\n",
    "a = b;\n",
    "b = c;\n",
    "print(f\"value of a is -{a} and value of b is -{b}\")"
   ]
  },
  {
   "cell_type": "markdown",
   "metadata": {},
   "source": [
    "### 14) WAP to get the distance from user into kilometer, and convert it into meter, feet, inches and centimeter."
   ]
  },
  {
   "cell_type": "code",
   "execution_count": 1,
   "metadata": {},
   "outputs": [
    {
     "name": "stdout",
     "output_type": "stream",
     "text": [
      "Distance in Meters: 12000.0 m\n",
      "Distance in Feet: 39370.08 ft\n",
      "Distance in Inches: 472441.19999999995 in\n",
      "Distance in Centimeters: 1200000.0 cm\n"
     ]
    }
   ],
   "source": [
    "def convert_distance(km):\n",
    "    meters = km * 1000\n",
    "    feet = km * 3280.84\n",
    "    inches = km * 39370.1\n",
    "    centimeters = km * 100000\n",
    "    \n",
    "    print(f\"Distance in Meters: {meters} m\")\n",
    "    print(f\"Distance in Feet: {feet} ft\")\n",
    "    print(f\"Distance in Inches: {inches} in\")\n",
    "    print(f\"Distance in Centimeters: {centimeters} cm\")\n",
    "\n",
    "kilometers = float(input(\"Enter distance in kilometers: \"))\n",
    "\n",
    "convert_distance(kilometers)\n"
   ]
  },
  {
   "cell_type": "markdown",
   "metadata": {},
   "source": [
    "### 15) WAP to get day, month and year from the user and print the date in the given format: 23-11-2024."
   ]
  },
  {
   "cell_type": "code",
   "execution_count": 2,
   "metadata": {},
   "outputs": [
    {
     "name": "stdout",
     "output_type": "stream",
     "text": [
      "Formatted Date: 12-12-2012\n"
     ]
    }
   ],
   "source": [
    "day = int(input(\"Enter day (DD): \"))\n",
    "month = int(input(\"Enter month (MM): \"))\n",
    "year = int(input(\"Enter year (YYYY): \"))\n",
    "\n",
    "formatted_date = f\"{day:02d}-{month:02d}-{year}\"\n",
    "print(\"Formatted Date:\", formatted_date)"
   ]
  },
  {
   "cell_type": "code",
   "execution_count": null,
   "metadata": {},
   "outputs": [],
   "source": []
  }
 ],
 "metadata": {
  "kernelspec": {
   "display_name": "base",
   "language": "python",
   "name": "python3"
  },
  "language_info": {
   "codemirror_mode": {
    "name": "ipython",
    "version": 3
   },
   "file_extension": ".py",
   "mimetype": "text/x-python",
   "name": "python",
   "nbconvert_exporter": "python",
   "pygments_lexer": "ipython3",
   "version": "3.12.7"
  }
 },
 "nbformat": 4,
 "nbformat_minor": 4
}
