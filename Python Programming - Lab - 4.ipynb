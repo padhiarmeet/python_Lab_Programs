{
 "cells": [
  {
   "cell_type": "markdown",
   "metadata": {},
   "source": [
    "\n",
    "<a href='https://www.darshan.ac.in/'> <img src='https://www.darshan.ac.in/Content/media/DU_Logo.svg' width=\"250\" height=\"300\"/></a>\n",
    "<pre>\n",
    "<center><b><h1>Python Programming - 2301CS404</b></center>\n",
    "<center><b><h1>Lab - 4</b></center>   \n",
    "<center><b><h1>Padhiyar meet</b> <b>23010101180</b></center>    \n",
    "<pre>"
   ]
  },
  {
   "cell_type": "markdown",
   "metadata": {},
   "source": [
    "# String"
   ]
  },
  {
   "cell_type": "markdown",
   "metadata": {},
   "source": [
    "### 01) WAP to check whether the given string is palindrome or not."
   ]
  },
  {
   "cell_type": "code",
   "execution_count": 3,
   "metadata": {},
   "outputs": [
    {
     "name": "stdout",
     "output_type": "stream",
     "text": [
      "<reversed object at 0x000001DEAFBEBD60>\n",
      "string is not a pelendrom\n"
     ]
    }
   ],
   "source": [
    "str = input(\"Enter a String-\")\n",
    "temp = str[::-1]\n",
    "\n",
    "if str == temp:\n",
    "    print(\"string is a pelendrom\")\n",
    "else:\n",
    "    print(\"string is not a pelendrom\")"
   ]
  },
  {
   "cell_type": "markdown",
   "metadata": {},
   "source": [
    "### 02) WAP to reverse the words in the given string."
   ]
  },
  {
   "cell_type": "code",
   "execution_count": 4,
   "metadata": {},
   "outputs": [
    {
     "name": "stdout",
     "output_type": "stream",
     "text": [
      "<reversed object at 0x000001DEB10D8DF0>\n"
     ]
    }
   ],
   "source": [
    "str = input(\"Enter a String-\")\n",
    "temp = str[::-1]\n",
    "print(temp)"
   ]
  },
  {
   "cell_type": "markdown",
   "metadata": {},
   "source": [
    "### 03) WAP to remove ith character from given string."
   ]
  },
  {
   "cell_type": "code",
   "execution_count": 2,
   "metadata": {},
   "outputs": [
    {
     "name": "stdout",
     "output_type": "stream",
     "text": [
      "String after removal: met\n"
     ]
    }
   ],
   "source": [
    "string = input(\"Enter the string: \")\n",
    "index = int(input(\"Enter the index to remove: \"))\n",
    "\n",
    "if 0 <= index < len(string):\n",
    "    new_string = string[:index] + string[index+1:] \n",
    "    print(\"String after removal:\", new_string)\n",
    "else:\n",
    "    print(\"Invalid index!\")\n"
   ]
  },
  {
   "cell_type": "markdown",
   "metadata": {},
   "source": [
    "### 04) WAP to find length of string without using len function."
   ]
  },
  {
   "cell_type": "code",
   "execution_count": 12,
   "metadata": {},
   "outputs": [
    {
     "name": "stdout",
     "output_type": "stream",
     "text": [
      "4\n"
     ]
    }
   ],
   "source": [
    "str = input(\"Enter a String-\")\n",
    "\n",
    "count = 0\n",
    "for char in str:\n",
    "    count += 1\n",
    "\n",
    "print(count)"
   ]
  },
  {
   "cell_type": "markdown",
   "metadata": {},
   "source": [
    "### 05) WAP to print even length word in string."
   ]
  },
  {
   "cell_type": "code",
   "execution_count": 13,
   "metadata": {},
   "outputs": [
    {
     "name": "stdout",
     "output_type": "stream",
     "text": [
      "me3\n"
     ]
    }
   ],
   "source": [
    "str = input(\"Enter a String-\")\n",
    "name2 = str[0:len(str):2]\n",
    "\n",
    "print(name2)"
   ]
  },
  {
   "cell_type": "markdown",
   "metadata": {},
   "source": [
    "### 06) WAP to count numbers of vowels in given string."
   ]
  },
  {
   "cell_type": "code",
   "execution_count": 18,
   "metadata": {},
   "outputs": [
    {
     "name": "stdout",
     "output_type": "stream",
     "text": [
      "3\n"
     ]
    }
   ],
   "source": [
    "str = input(\"Enter a String-\")\n",
    "vov = 'aeiou'\n",
    "\n",
    "vowel_count = sum(str.lower().count(vowel) for vowel in vov)\n",
    "\n",
    "print(vowel_count)\n",
    "\n"
   ]
  },
  {
   "cell_type": "markdown",
   "metadata": {},
   "source": [
    "### 07) WAP to capitalize the first and last character of each word in a string."
   ]
  },
  {
   "cell_type": "code",
   "execution_count": 57,
   "metadata": {},
   "outputs": [
    {
     "name": "stdout",
     "output_type": "stream",
     "text": [
      "\n"
     ]
    }
   ],
   "source": [
    "str = input(\"Enter a String-\")\n",
    "\n",
    "arr = str.split(\" \")\n",
    "temp = ''\n",
    "for word in arr:\n",
    "    # cap = [0:len(str)-1].title() + str[len(str) -1].upper()\n",
    "    temp = word.title()\n",
    "    temp2 = temp[-1:-2].capitalize()\n",
    "\n",
    "print(temp2)"
   ]
  },
  {
   "cell_type": "markdown",
   "metadata": {},
   "source": [
    "### 08) WAP to convert given array to string."
   ]
  },
  {
   "cell_type": "code",
   "execution_count": 28,
   "metadata": {},
   "outputs": [
    {
     "name": "stdout",
     "output_type": "stream",
     "text": [
      "meet is my name \n"
     ]
    }
   ],
   "source": [
    "arr = ['meet','is','my','name']\n",
    "str = \"\"\n",
    "for name in arr:\n",
    "    str += name\n",
    "    str +=\" \"\n",
    "\n",
    "print(str)"
   ]
  },
  {
   "cell_type": "markdown",
   "metadata": {},
   "source": [
    "### 09) Check if the password and confirm password is same or not. \n",
    "### In case of only case's mistake, show the error message."
   ]
  },
  {
   "cell_type": "code",
   "execution_count": 42,
   "metadata": {},
   "outputs": [
    {
     "name": "stdout",
     "output_type": "stream",
     "text": [
      "Error in case of word\n"
     ]
    }
   ],
   "source": [
    "inp = input(\"Enter password\")\n",
    "password = \"Hello\"\n",
    "\n",
    "if inp.lower() == password.lower():\n",
    "\n",
    "    if inp == password:\n",
    "        print(\"Valid password\")\n",
    "    else:\n",
    "        print(\"Error in case of word\")\n",
    "    \n",
    "else:\n",
    "    print(\"Enter valid password\")\n",
    "\n"
   ]
  },
  {
   "cell_type": "markdown",
   "metadata": {},
   "source": [
    "### 10) : Display credit card number. \n",
    "### card no. : 1234 5678 9012 3456\n",
    "### display as  : **** **** **** 3456"
   ]
  },
  {
   "cell_type": "code",
   "execution_count": 43,
   "metadata": {},
   "outputs": [
    {
     "name": "stdout",
     "output_type": "stream",
     "text": [
      "Masked Card Number: **** **** **** 3456\n"
     ]
    }
   ],
   "source": [
    "\n",
    "card_number = \"1234 5678 9012 3456\"\n",
    "\n",
    "parts = card_number.split()\n",
    "\n",
    "\n",
    "masked_parts = ['****' for _ in parts[:-1]] + [parts[-1]]\n",
    "\n",
    "masked_card_number = ' '.join(masked_parts)\n",
    "\n",
    "print(\"Masked Card Number:\", masked_card_number)\n",
    "\n"
   ]
  },
  {
   "cell_type": "markdown",
   "metadata": {},
   "source": [
    "### 11) : Checking if the two strings are Anagram or not.\n",
    "### s1 = decimal and s2 = medical are Anagram"
   ]
  },
  {
   "cell_type": "code",
   "execution_count": null,
   "metadata": {},
   "outputs": [],
   "source": [
    "s1 = 'decimal'\n",
    "s2 = 'anagram'\n",
    "\n",
    "if sorted(s1.lower()) == sorted(s1.lower()):\n",
    "    print(\"Anagram String.\")"
   ]
  },
  {
   "cell_type": "markdown",
   "metadata": {},
   "source": [
    "### 12) : Rearrange the given string. First lowercase then uppercase alphabets.\n",
    "### input : EHlsarwiwhtwMV\n",
    "### output : lsarwiwhtwEHMV"
   ]
  },
  {
   "cell_type": "code",
   "execution_count": null,
   "metadata": {},
   "outputs": [],
   "source": [
    "\n",
    "input_string = \"EHlsarwiwhtwMV\"\n",
    "\n",
    "lowercase = ''.join(char for char in input_string if char.islower())\n",
    "uppercase = ''.join(char for char in input_string if char.isupper())\n",
    "\n",
    "\n",
    "result = lowercase + uppercase\n",
    "\n",
    "\n",
    "print(\"Rearranged string:\", result)\n"
   ]
  }
 ],
 "metadata": {
  "kernelspec": {
   "display_name": "base",
   "language": "python",
   "name": "python3"
  },
  "language_info": {
   "codemirror_mode": {
    "name": "ipython",
    "version": 3
   },
   "file_extension": ".py",
   "mimetype": "text/x-python",
   "name": "python",
   "nbconvert_exporter": "python",
   "pygments_lexer": "ipython3",
   "version": "3.12.7"
  }
 },
 "nbformat": 4,
 "nbformat_minor": 4
}
