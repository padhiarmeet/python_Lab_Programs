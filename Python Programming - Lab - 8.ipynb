{
 "cells": [
  {
   "cell_type": "markdown",
   "metadata": {},
   "source": [
    "<a href='https://www.darshan.ac.in/'> <img src='https://www.darshan.ac.in/Content/media/DU_Logo.svg' width=\"250\" height=\"300\"/></a>\n",
    "<pre>\n",
    "<center><b><h1>Python Programming - 2301CS404</b></center>\n",
    "<center><b><h1>Lab - 8</b></center>  \n",
    "<center><b><h1>Padhiyar meet</b> <b>23010101180</b></center>     \n",
    "<pre>"
   ]
  },
  {
   "cell_type": "markdown",
   "metadata": {},
   "source": [
    "# User Defined Function"
   ]
  },
  {
   "cell_type": "markdown",
   "metadata": {},
   "source": [
    "### 01) Write a function to calculate BMI given mass and height. (BMI = mass/h**2)"
   ]
  },
  {
   "cell_type": "code",
   "execution_count": 1,
   "metadata": {},
   "outputs": [
    {
     "name": "stdout",
     "output_type": "stream",
     "text": [
      "0.5\n"
     ]
    }
   ],
   "source": [
    "def cal(mass,height):\n",
    "    return (mass / (height**2))\n",
    "\n",
    "print(cal(2,2))\n"
   ]
  },
  {
   "cell_type": "markdown",
   "metadata": {},
   "source": [
    "### 02) Write a function that add first n numbers."
   ]
  },
  {
   "cell_type": "code",
   "execution_count": 2,
   "metadata": {},
   "outputs": [
    {
     "name": "stdout",
     "output_type": "stream",
     "text": [
      "3\n"
     ]
    }
   ],
   "source": [
    "def cal(n):\n",
    "    add = 0;\n",
    "    for i in range(0,n+1):\n",
    "        add += i\n",
    "    print(add)\n",
    "\n",
    "cal(2)"
   ]
  },
  {
   "cell_type": "markdown",
   "metadata": {},
   "source": [
    "### 03) Write a function that returns 1 if the given number is Prime or 0 otherwise."
   ]
  },
  {
   "cell_type": "code",
   "execution_count": 8,
   "metadata": {},
   "outputs": [
    {
     "name": "stdout",
     "output_type": "stream",
     "text": [
      "0\n"
     ]
    }
   ],
   "source": [
    "def prime(n):\n",
    "    for i in range(2,int(n/2)+1):\n",
    "        if(n % i == 0):\n",
    "            return(0)\n",
    "    return(1)\n",
    "print(prime(6))"
   ]
  },
  {
   "cell_type": "markdown",
   "metadata": {},
   "source": [
    "### 04) Write a function that returns the list of Prime numbers between given two numbers."
   ]
  },
  {
   "cell_type": "code",
   "execution_count": 12,
   "metadata": {},
   "outputs": [
    {
     "name": "stdout",
     "output_type": "stream",
     "text": [
      "[2, 3, 5, 7]\n"
     ]
    }
   ],
   "source": [
    "def primeList(n1,n2):\n",
    "    return [i for i in range(n1,n2+1) if prime(i) == 1]\n",
    "\n",
    "print(primeList(2,10))"
   ]
  },
  {
   "cell_type": "markdown",
   "metadata": {},
   "source": [
    "### 05) Write a function that returns True if the given string is Palindrome or False otherwise."
   ]
  },
  {
   "cell_type": "code",
   "execution_count": 15,
   "metadata": {},
   "outputs": [
    {
     "name": "stdout",
     "output_type": "stream",
     "text": [
      "PELENDROME\n"
     ]
    }
   ],
   "source": [
    "def pel(s1):\n",
    "    if s1 == s1[::-1]:\n",
    "        print(\"PELENDROME\")\n",
    "    else:\n",
    "        print(\"NOT A PELENDROME\")\n",
    "pel('meem')"
   ]
  },
  {
   "cell_type": "markdown",
   "metadata": {},
   "source": [
    "### 06) Write a function that returns the sum of all the elements of the list."
   ]
  },
  {
   "cell_type": "code",
   "execution_count": 16,
   "metadata": {},
   "outputs": [
    {
     "name": "stdout",
     "output_type": "stream",
     "text": [
      "45\n"
     ]
    }
   ],
   "source": [
    "def sumList(l1):\n",
    "    return sum(l1)\n",
    "print(sumList([1,2,3,4,5,6,7,8,9,0]))"
   ]
  },
  {
   "cell_type": "markdown",
   "metadata": {},
   "source": [
    "### 07) Write a function to calculate the sum of the first element of each tuples inside the list."
   ]
  },
  {
   "cell_type": "code",
   "execution_count": 17,
   "metadata": {},
   "outputs": [
    {
     "name": "stdout",
     "output_type": "stream",
     "text": [
      "4\n"
     ]
    }
   ],
   "source": [
    "def first(l1):\n",
    "    return sum([i[0] for i in l1])\n",
    "    \n",
    "print(first([(1,1,1),(1,1,1),(1,1,1),(1,1,1)]))"
   ]
  },
  {
   "cell_type": "markdown",
   "metadata": {},
   "source": [
    "### 08) Write a recursive function to find nth term of Fibonacci Series."
   ]
  },
  {
   "cell_type": "code",
   "execution_count": 29,
   "metadata": {},
   "outputs": [
    {
     "name": "stdout",
     "output_type": "stream",
     "text": [
      "5\n"
     ]
    }
   ],
   "source": [
    "def feb(n1):\n",
    "    if(n1 == 0 or n1 == 1):\n",
    "        return n1;\n",
    "    return feb(n1-1)+feb(n1 - 2)\n",
    "\n",
    "print(feb(5))\n"
   ]
  },
  {
   "cell_type": "markdown",
   "metadata": {},
   "source": [
    "### 09) Write a function to get the name of the student based on the given rollno.\n",
    "#### Example: Given dict1 = {101:'Ajay', 102:'Rahul', 103:'Jay', 104:'Pooja'} find name of student whose rollno = 103"
   ]
  },
  {
   "cell_type": "code",
   "execution_count": 30,
   "metadata": {},
   "outputs": [
    {
     "name": "stdout",
     "output_type": "stream",
     "text": [
      "Ajay\n"
     ]
    }
   ],
   "source": [
    "def name(d1,r1):\n",
    "    return(d1.get(r1))\n",
    "print(name({101:'Ajay', 102:'Rahul', 103:'Jay', 104:'Pooja'},101))"
   ]
  },
  {
   "cell_type": "markdown",
   "metadata": {},
   "source": [
    "### 10) Write a function to get the sum of the scores ending with zero.\n",
    "#### Example : scores = [200, 456, 300, 100, 234, 678] \n",
    "#### Ans = 200 + 300 + 100 = 600"
   ]
  },
  {
   "cell_type": "code",
   "execution_count": 31,
   "metadata": {},
   "outputs": [
    {
     "name": "stdout",
     "output_type": "stream",
     "text": [
      "600\n"
     ]
    }
   ],
   "source": [
    "def lsum(l1):\n",
    "    return sum([i for i in l1 if i % 10 == 0])\n",
    "print(lsum([200,456,300,100,234,678]))"
   ]
  },
  {
   "cell_type": "markdown",
   "metadata": {},
   "source": [
    "### 11) Write a function to invert a given Dictionary.\n",
    "#### hint: keys to values & values to keys\n",
    "#### Before : {'a': 10, 'b':20, 'c':30, 'd':40}\n",
    "#### After : {10:'a', 20:'b', 30:'c', 40:'d'}"
   ]
  },
  {
   "cell_type": "code",
   "execution_count": 33,
   "metadata": {},
   "outputs": [
    {
     "name": "stdout",
     "output_type": "stream",
     "text": [
      "{10: 'a', 20: 'b', 30: 'c', 40: 'd'}\n"
     ]
    }
   ],
   "source": [
    "def invert(d1):\n",
    "    return {j:i for i,j in d1.items()}\n",
    "\n",
    "print(invert({'a': 10, 'b':20, 'c':30, 'd':40}))  "
   ]
  },
  {
   "cell_type": "markdown",
   "metadata": {},
   "source": [
    "### 12) Write a function to check whether the given string is Pangram or not.\n",
    "#### hint: Pangram is a string containing all the characters a-z atlest once.\n",
    "#### \"the quick brown fox jumps over the lazy dog\" is a Pangram string."
   ]
  },
  {
   "cell_type": "code",
   "execution_count": 35,
   "metadata": {},
   "outputs": [
    {
     "name": "stdout",
     "output_type": "stream",
     "text": [
      "True\n"
     ]
    }
   ],
   "source": [
    "def panagram(s1):\n",
    "    temp = \"thequickbrownfoxjumpsoverthelazydog\"\n",
    "    return set(temp).issubset(set(s1.lower()))\n",
    "print(panagram('abcdefghijklmnopqrstuvwxyz'))"
   ]
  },
  {
   "cell_type": "markdown",
   "metadata": {},
   "source": [
    "### 13) Write a function that returns the number of uppercase and lowercase letters in the given string. \n",
    "#### example : Input : s1 = AbcDEfgh ,Ouptput : no_upper = 3, no_lower = 5"
   ]
  },
  {
   "cell_type": "code",
   "execution_count": 41,
   "metadata": {},
   "outputs": [
    {
     "name": "stdout",
     "output_type": "stream",
     "text": [
      "lower =  2\n",
      "upper =  2\n"
     ]
    }
   ],
   "source": [
    "def lowerUpper(s1):\n",
    "    lower = 0\n",
    "    upper = 0\n",
    "\n",
    "    for i in s1:\n",
    "        if i.isupper():\n",
    "            lower +=1\n",
    "        else:\n",
    "            upper += 1\n",
    "    print('lower = ',lower)\n",
    "    print('upper = ',upper)\n",
    "lowerUpper('MeeT')"
   ]
  },
  {
   "cell_type": "markdown",
   "metadata": {},
   "source": [
    "### 14) Write a lambda function to get smallest number from the given two numbers."
   ]
  },
  {
   "cell_type": "code",
   "execution_count": 43,
   "metadata": {},
   "outputs": [
    {
     "name": "stdout",
     "output_type": "stream",
     "text": [
      "5\n"
     ]
    }
   ],
   "source": [
    "smallNum = lambda a,b :a if a < b else b\n",
    "print('smallest - ',smallNum(5,2))"
   ]
  },
  {
   "cell_type": "markdown",
   "metadata": {},
   "source": [
    "### 15) For the given list of names of students, extract the names having more that 7 characters. Use filter()."
   ]
  },
  {
   "cell_type": "code",
   "execution_count": 47,
   "metadata": {},
   "outputs": [
    {
     "name": "stdout",
     "output_type": "stream",
     "text": [
      "['fdfdfdvd']\n"
     ]
    }
   ],
   "source": [
    "def filterLongNames(names):\n",
    "    return list(filter(lambda name: len(name) > 7, names))\n",
    "\n",
    "names = ['fdfdf','dsgfg','fdfdfdvd','dsgfg']\n",
    "long_names = filterLongNames(names)\n",
    "print(long_names)"
   ]
  },
  {
   "cell_type": "markdown",
   "metadata": {},
   "source": [
    "### 16) For the given list of names of students, convert the first letter of all the names into uppercase. use map()."
   ]
  },
  {
   "cell_type": "code",
   "execution_count": 48,
   "metadata": {},
   "outputs": [
    {
     "name": "stdout",
     "output_type": "stream",
     "text": [
      "['Fdfdf', 'Dsgfg', 'Fdfdf', 'Dsgfg']\n"
     ]
    }
   ],
   "source": [
    "def capFirstLetter(names):\n",
    "    return list(map(lambda name: name.capitalize(), names))\n",
    "\n",
    "names = ['fdfdf','dsgfg','fdfdf','dsgfg']\n",
    "capname = capFirstLetter(names)\n",
    "print(capname)"
   ]
  },
  {
   "cell_type": "markdown",
   "metadata": {},
   "source": [
    "### 17) Write udfs to call the functions with following types of arguments:\n",
    "1. Positional Arguments\n",
    "2. Keyword Arguments\n",
    "3. Default Arguments\n",
    "4. Variable Legngth Positional(*args) & variable length Keyword Arguments (**kwargs)\n",
    "5. Keyword-Only & Positional Only Arguments"
   ]
  },
  {
   "cell_type": "code",
   "execution_count": null,
   "metadata": {},
   "outputs": [],
   "source": [
    "def positional_args(name, age):\n",
    "    print(f\"Positional Arguments -> Name: {name}, Age: {age}\")\n",
    "\n",
    "positional_args(\"Alice\", 25)\n",
    "\n",
    "def keyword_args(name, age):\n",
    "    print(f\"Keyword Arguments -> Name: {name}, Age: {age}\")\n",
    "\n",
    "keyword_args(age=30, name=\"Bob\")\n",
    "\n",
    "def default_args(name, age=18):\n",
    "    print(f\"Default Arguments -> Name: {name}, Age: {age}\")\n",
    "\n",
    "default_args(\"Charlie\")\n",
    "default_args(\"Charlie\", 22)  \n",
    "\n",
    "def variable_length_args(*args, **kwargs):\n",
    "    print(\"Variable Length Positional Arguments (*args):\", args)\n",
    "    print(\"Variable Length Keyword Arguments (**kwargs):\", kwargs)\n",
    "\n",
    "variable_length_args(1, 2, 3, name=\"David\", age=40)\n",
    "\n",
    "def mixed_arguments(a, /, b, *, c):\n",
    "    print(f\"Positional-Only: {a}, Regular: {b}, Keyword-Only: {c}\")\n",
    "\n",
    "mixed_arguments(10, b=20, c=30)  # Valid\n",
    "\n"
   ]
  }
 ],
 "metadata": {
  "kernelspec": {
   "display_name": "base",
   "language": "python",
   "name": "python3"
  },
  "language_info": {
   "codemirror_mode": {
    "name": "ipython",
    "version": 3
   },
   "file_extension": ".py",
   "mimetype": "text/x-python",
   "name": "python",
   "nbconvert_exporter": "python",
   "pygments_lexer": "ipython3",
   "version": "3.12.7"
  }
 },
 "nbformat": 4,
 "nbformat_minor": 4
}
