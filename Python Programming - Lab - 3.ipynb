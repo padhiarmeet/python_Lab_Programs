{
 "cells": [
  {
   "cell_type": "markdown",
   "metadata": {},
   "source": [
    "\n",
    "<a href='https://www.darshan.ac.in/'> <img src='https://www.darshan.ac.in/Content/media/DU_Logo.svg' width=\"250\" height=\"300\"/></a>\n",
    "<pre>\n",
    "<center><b><h1>Python Programming - 2301CS404</b></center>\n",
    "<center><b><h1>Lab - 3</b></center>  \n",
    "<center><b><h1>Padhiyar meet</b> <b>23010101180</b></center>     \n",
    "<pre>"
   ]
  },
  {
   "cell_type": "markdown",
   "metadata": {},
   "source": [
    "# for and while loop"
   ]
  },
  {
   "cell_type": "markdown",
   "metadata": {},
   "source": [
    "### 01) WAP to print 1 to 10."
   ]
  },
  {
   "cell_type": "code",
   "execution_count": 1,
   "metadata": {},
   "outputs": [
    {
     "name": "stdout",
     "output_type": "stream",
     "text": [
      "1\n",
      "2\n",
      "3\n",
      "4\n",
      "5\n",
      "6\n",
      "7\n",
      "8\n",
      "9\n",
      "10\n"
     ]
    }
   ],
   "source": [
    "n = 1\n",
    "while n <= 10:\n",
    "    print(n);\n",
    "    n = n +1"
   ]
  },
  {
   "cell_type": "markdown",
   "metadata": {},
   "source": [
    "### 02) WAP to print 1 to n."
   ]
  },
  {
   "cell_type": "code",
   "execution_count": 3,
   "metadata": {},
   "outputs": [],
   "source": [
    "n = int(input(\"Enter Number - \"))\n",
    "while i <= n:\n",
    "    print(i);\n",
    "    i = i +1"
   ]
  },
  {
   "cell_type": "markdown",
   "metadata": {},
   "source": [
    "### 03) WAP to print odd numbers between 1 to n."
   ]
  },
  {
   "cell_type": "code",
   "execution_count": 4,
   "metadata": {},
   "outputs": [],
   "source": [
    "n = int(input(\"Enter Number - \"))\n",
    "while i <= n:\n",
    "    if(i % 2 != 0):\n",
    "        print(i)\n",
    "    i = i+1"
   ]
  },
  {
   "cell_type": "markdown",
   "metadata": {},
   "source": [
    "### 04) WAP to print numbers between two given numbers which is divisible by 2 but not divisible by 3."
   ]
  },
  {
   "cell_type": "code",
   "execution_count": 2,
   "metadata": {},
   "outputs": [
    {
     "name": "stdout",
     "output_type": "stream",
     "text": [
      "4\n"
     ]
    }
   ],
   "source": [
    "n1 = int(input(\"Enter first Number - \"))\n",
    "n2 = int(input(\"Enter second Number - \"))\n",
    "\n",
    "for i in range(n1,n2+1):\n",
    "    if i % 2 == 0 and i % 3 != 0:\n",
    "        print(i)\n"
   ]
  },
  {
   "cell_type": "markdown",
   "metadata": {},
   "source": [
    "### 05) WAP to print sum of 1 to n numbers."
   ]
  },
  {
   "cell_type": "code",
   "execution_count": 1,
   "metadata": {},
   "outputs": [
    {
     "name": "stdout",
     "output_type": "stream",
     "text": [
      "55\n"
     ]
    }
   ],
   "source": [
    "sum = 0\n",
    "for i in range(1,11):\n",
    "    sum = sum + i\n",
    "print(sum)"
   ]
  },
  {
   "cell_type": "markdown",
   "metadata": {},
   "source": [
    "### 06) WAP to print sum of series 1 + 4 + 9 + 16 + 25 + 36 + ...n."
   ]
  },
  {
   "cell_type": "code",
   "execution_count": 6,
   "metadata": {},
   "outputs": [
    {
     "name": "stdout",
     "output_type": "stream",
     "text": [
      "30\n"
     ]
    }
   ],
   "source": [
    "n = int(input(\"Enter range - \"))\n",
    "sum = 0\n",
    "for value in range(1,n+1):\n",
    "    squre = value ** 2\n",
    "    sum += squre\n",
    "print(sum)\n",
    "    \n"
   ]
  },
  {
   "cell_type": "markdown",
   "metadata": {},
   "source": [
    "### 07) WAP to print sum of series 1 – 2 + 3 – 4 + 5 – 6 + 7 ... n."
   ]
  },
  {
   "cell_type": "code",
   "execution_count": 1,
   "metadata": {},
   "outputs": [
    {
     "name": "stdout",
     "output_type": "stream",
     "text": [
      "3\n"
     ]
    }
   ],
   "source": [
    "n = int(input(\"Enter range - \"))\n",
    "sum = 0\n",
    "\n",
    "for i in range(1,n+1):\n",
    "    if(i % 2 == 0):\n",
    "        sum -= i\n",
    "    else:\n",
    "        sum += i\n",
    "print(sum)"
   ]
  },
  {
   "cell_type": "markdown",
   "metadata": {},
   "source": [
    "### 08) WAP to print multiplication table of given number."
   ]
  },
  {
   "cell_type": "code",
   "execution_count": null,
   "metadata": {},
   "outputs": [
    {
     "name": "stdout",
     "output_type": "stream",
     "text": [
      "5 * i = 5\n",
      "5 * i = 10\n",
      "5 * i = 15\n",
      "5 * i = 20\n",
      "5 * i = 25\n",
      "5 * i = 30\n",
      "5 * i = 35\n",
      "5 * i = 40\n",
      "5 * i = 45\n",
      "5 * i = 50\n"
     ]
    }
   ],
   "source": [
    "n = int(input(\"Enter a number - \"))\n",
    "for i in range(1,11):\n",
    "    print(f\"{n} * {i} = {n * i}\")\n"
   ]
  },
  {
   "cell_type": "markdown",
   "metadata": {},
   "source": [
    "### 09) WAP to find factorial of the given number."
   ]
  },
  {
   "cell_type": "code",
   "execution_count": 12,
   "metadata": {},
   "outputs": [
    {
     "name": "stdout",
     "output_type": "stream",
     "text": [
      "120\n"
     ]
    }
   ],
   "source": [
    "n = int(input(\"Enter range - \"))\n",
    "fect = 1\n",
    "for i in range(1,n+1):\n",
    "    fect *= i;\n",
    "print(fect)\n"
   ]
  },
  {
   "cell_type": "markdown",
   "metadata": {},
   "source": [
    "### 10) WAP to find factors of the given number."
   ]
  },
  {
   "cell_type": "code",
   "execution_count": null,
   "metadata": {},
   "outputs": [
    {
     "name": "stdout",
     "output_type": "stream",
     "text": [
      "1\n",
      "2\n",
      "3\n"
     ]
    }
   ],
   "source": [
    "n = int(input(\"Enter range - \"))\n",
    "for i in range(1,n+1):\n",
    "    if(n % i == 0):\n",
    "        print(i)"
   ]
  },
  {
   "cell_type": "markdown",
   "metadata": {},
   "source": [
    "### 11) WAP to find whether the given number is prime or not."
   ]
  },
  {
   "cell_type": "code",
   "execution_count": 7,
   "metadata": {},
   "outputs": [
    {
     "name": "stdout",
     "output_type": "stream",
     "text": [
      "Number is PRIME\n"
     ]
    }
   ],
   "source": [
    "\n",
    "\n",
    "n = int(input(\"Enter a number - \"))\n",
    "count = 0\n",
    "for i in range(2,int(n/2)):\n",
    "    if(n % i == 0):\n",
    "        count = count +1\n",
    "if(count == 0):\n",
    "    print(\"Number is PRIME\")\n",
    "else:\n",
    "    print(\"Number is not a PRIME\")"
   ]
  },
  {
   "cell_type": "markdown",
   "metadata": {},
   "source": [
    "### 12) WAP to print sum of digits of given number."
   ]
  },
  {
   "cell_type": "code",
   "execution_count": 12,
   "metadata": {},
   "outputs": [
    {
     "name": "stdout",
     "output_type": "stream",
     "text": [
      "10\n"
     ]
    }
   ],
   "source": [
    "n = int(input(\"Enter a number - \"))\n",
    "sum = 0;\n",
    "while n > 0:\n",
    "    sum += (n % 10)\n",
    "    n = int(n / 10);\n",
    "print(sum)"
   ]
  },
  {
   "cell_type": "markdown",
   "metadata": {},
   "source": [
    "### 13) WAP to check whether the given number is palindrome or not"
   ]
  },
  {
   "cell_type": "code",
   "execution_count": null,
   "metadata": {},
   "outputs": [
    {
     "name": "stdout",
     "output_type": "stream",
     "text": [
      " 321\n"
     ]
    }
   ],
   "source": [
    "n = int(input(\"Enter a number - \"))\n",
    "sum = \"\"\n",
    "while n > 0:\n",
    "    sum += str((n % 10))\n",
    "    n = int(n / 10);\n",
    "if str(n) == sum:\n",
    "    print(\"PELENDROME\")\n",
    "else:\n",
    "    print(\"Not a PELENDROME\")\n",
    "\n"
   ]
  },
  {
   "cell_type": "markdown",
   "metadata": {},
   "source": [
    "### 14) WAP to print GCD of given two numbers."
   ]
  },
  {
   "cell_type": "code",
   "execution_count": null,
   "metadata": {},
   "outputs": [
    {
     "name": "stdout",
     "output_type": "stream",
     "text": [
      "6\n",
      "3\n",
      "2\n",
      "1\n",
      "6\n"
     ]
    }
   ],
   "source": [
    "n1 = int(input(\"Enter first number-\"))\n",
    "n2 = int(input(\"Enter second number-\"))\n",
    "i = 2\n",
    "mul = 1\n",
    "while n1 > 0 and n2 > 0 and i <= min(n1,n2):\n",
    "    if n2 % i == 0 and n1 % i == 0 :\n",
    "        mul *= i\n",
    "        n2 //= i\n",
    "        n1 //= i\n",
    "    else:\n",
    "        i+=1\n",
    "print(mul)\n",
    "\n",
    "\n"
   ]
  },
  {
   "cell_type": "code",
   "execution_count": null,
   "metadata": {},
   "outputs": [],
   "source": []
  }
 ],
 "metadata": {
  "kernelspec": {
   "display_name": "base",
   "language": "python",
   "name": "python3"
  },
  "language_info": {
   "codemirror_mode": {
    "name": "ipython",
    "version": 3
   },
   "file_extension": ".py",
   "mimetype": "text/x-python",
   "name": "python",
   "nbconvert_exporter": "python",
   "pygments_lexer": "ipython3",
   "version": "3.12.7"
  }
 },
 "nbformat": 4,
 "nbformat_minor": 4
}
