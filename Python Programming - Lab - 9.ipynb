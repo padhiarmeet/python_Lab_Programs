{
 "cells": [
  {
   "cell_type": "markdown",
   "metadata": {},
   "source": [
    "<a href='https://www.darshan.ac.in/'> <img src='https://www.darshan.ac.in/Content/media/DU_Logo.svg' width=\"250\" height=\"300\"/></a>\n",
    "<pre>\n",
    "<center><b><h1>Python Programming - 2301CS404</b></center>\n",
    "<center><b><h1>Lab - 9</b></center>    \n",
    "<pre>"
   ]
  },
  {
   "cell_type": "markdown",
   "metadata": {},
   "source": [
    "# File I/O"
   ]
  },
  {
   "cell_type": "markdown",
   "metadata": {},
   "source": [
    "### 01) WAP to read and display the contents of a text file. (also try to open the file in some other directory) \n",
    "#### - in the form of a string\n",
    "#### - line by line\n",
    "#### - in the form of a list"
   ]
  },
  {
   "cell_type": "code",
   "execution_count": 10,
   "metadata": {},
   "outputs": [
    {
     "name": "stdout",
     "output_type": "stream",
     "text": [
      "['hello from 1 line.\\n', 'hello from 2 line.\\n', 'hello from 3 line.\\n', 'hello from 4 line.\\n', 'hello from 5 line.']\n",
      "hello from 1 li\n"
     ]
    }
   ],
   "source": [
    "fp = open('new1.txt','r')\n",
    "\n",
    "print(fp.readlines())\n",
    "fp.close()\n",
    "fp = open('new1.txt','r',12)\n",
    "print(fp.read(15))\n"
   ]
  },
  {
   "cell_type": "markdown",
   "metadata": {},
   "source": [
    "### 02) WAP to create file named \"new.txt\" only if it doesn't exist."
   ]
  },
  {
   "cell_type": "code",
   "execution_count": 11,
   "metadata": {},
   "outputs": [],
   "source": [
    "fs = open('new2.txt','x')\n",
    "\n",
    "fs.close()"
   ]
  },
  {
   "cell_type": "markdown",
   "metadata": {},
   "source": [
    "### 03) WAP to read first 5 lines from the text file."
   ]
  },
  {
   "cell_type": "code",
   "execution_count": 35,
   "metadata": {},
   "outputs": [
    {
     "name": "stdout",
     "output_type": "stream",
     "text": [
      "hello from 1 line.\n",
      "\n"
     ]
    }
   ],
   "source": [
    "fs = open('new1.txt','r')\n",
    "line = fs.readline(23)\n",
    "print(line)"
   ]
  },
  {
   "cell_type": "markdown",
   "metadata": {},
   "source": [
    "### 04) WAP to find the longest word(s) in a file"
   ]
  },
  {
   "cell_type": "code",
   "execution_count": 31,
   "metadata": {},
   "outputs": [
    {
     "name": "stdout",
     "output_type": "stream",
     "text": [
      "hellooooooo\n"
     ]
    }
   ],
   "source": [
    "fs = open('frist.txt','r')\n",
    "word = fs.read().split()\n",
    "wordLen = [len(i) for i in word]\n",
    "print(word[wordLen.index(int(max(wordLen)))])\n",
    "fs.close()"
   ]
  },
  {
   "cell_type": "markdown",
   "metadata": {},
   "source": [
    "### 05) WAP to count the no. of lines, words and characters in a given text file."
   ]
  },
  {
   "cell_type": "code",
   "execution_count": 43,
   "metadata": {},
   "outputs": [
    {
     "name": "stdout",
     "output_type": "stream",
     "text": [
      "2\n",
      "5\n",
      "29\n"
     ]
    }
   ],
   "source": [
    "words = 0\n",
    "fs = open('frist.txt','r')\n",
    "'''Numer of lines'''\n",
    "print(len(fs.readlines()))\n",
    "\n",
    "fs.close()\n",
    "fs = open('frist.txt','r')\n",
    "\n",
    "'''numebr of words'''\n",
    "print(len(fs.read().split()))\n",
    "\n",
    "'''number of character'''\n",
    "fs.close()\n",
    "fs = open('frist.txt','r')\n",
    "\n",
    "for i in (fs.read().split()):\n",
    "    words += len(i)\n",
    "    \n",
    "print(words)\n",
    "\n",
    "fs.close()"
   ]
  },
  {
   "cell_type": "markdown",
   "metadata": {},
   "source": [
    "### 06) WAP to copy the content of a file to the another file."
   ]
  },
  {
   "cell_type": "code",
   "execution_count": 46,
   "metadata": {},
   "outputs": [
    {
     "data": {
      "text/plain": [
       "33"
      ]
     },
     "execution_count": 46,
     "metadata": {},
     "output_type": "execute_result"
    }
   ],
   "source": [
    "fs = open('frist.txt','r')\n",
    "word = fs.read()\n",
    "fp = open('new.txt','w')\n",
    "fp.write(word)\n",
    "fp.close()\n",
    "fs.close()"
   ]
  },
  {
   "cell_type": "markdown",
   "metadata": {},
   "source": [
    "### 07) WAP to find the size of the text file. "
   ]
  },
  {
   "cell_type": "code",
   "execution_count": null,
   "metadata": {},
   "outputs": [],
   "source": []
  },
  {
   "cell_type": "markdown",
   "metadata": {},
   "source": [
    "### 08) WAP to create an UDF named frequency to count occurances of the specific word in a given text file."
   ]
  },
  {
   "cell_type": "code",
   "execution_count": 61,
   "metadata": {},
   "outputs": [
    {
     "name": "stdout",
     "output_type": "stream",
     "text": [
      "5\n"
     ]
    }
   ],
   "source": [
    "fo = open('new1.txt','r')\n",
    "\n",
    "\n",
    "def frequncy(word):\n",
    "    c = 0\n",
    "    for i in fo:\n",
    "        c += i.split().count(word)\n",
    "        \n",
    "    return c\n",
    "\n",
    "print(frequncy('hello'))\n",
    "fo.close()"
   ]
  },
  {
   "cell_type": "markdown",
   "metadata": {},
   "source": [
    "### 09) WAP to get the score of five subjects from the user, store them in a file. Fetch those marks and find the highest score."
   ]
  },
  {
   "cell_type": "code",
   "execution_count": 80,
   "metadata": {},
   "outputs": [
    {
     "name": "stdout",
     "output_type": "stream",
     "text": [
      "\n",
      "03 = sh\n",
      "\n",
      "02 =\n",
      "\n",
      " retup\n",
      "\n",
      "05 =05 = retup\n",
      "\n",
      "07 = lai\n",
      "\n",
      "56 = hsil\n"
     ]
    }
   ],
   "source": [
    "fs = open('score.txt','w')\n",
    "\n",
    "maths = 30\n",
    "pt = 20\n",
    "computer = 50\n",
    "social = 70\n",
    "english = 65\n",
    "\n",
    "fs.write(f'maths = {maths}\\npt = {pt}\\ncomputer \\ncomputer = {computer}= {computer}\\nsocial = {social}\\nenglish = {english}\\n')\n",
    "fs.close()\n",
    "fs = open('score.txt','r')\n",
    "\n",
    "for i in fs:\n",
    "    \n",
    "\n",
    "\n",
    "\n",
    "\n"
   ]
  },
  {
   "cell_type": "markdown",
   "metadata": {},
   "source": [
    "### 10) WAP to write first 100 prime numbers to a file named primenumbers.txt \n",
    "(Note: each number should be in new line)"
   ]
  },
  {
   "cell_type": "code",
   "execution_count": 86,
   "metadata": {},
   "outputs": [],
   "source": [
    "fps = open('primenumbers.txt','a')\n",
    "count = 0\n",
    "p = 0\n",
    "while p != 100:\n",
    "    for i in range(2,int(count/2)):\n",
    "        if count % i == 0:\n",
    "            break\n",
    "    else :\n",
    "        fps.write(str(p) + '\\n')\n",
    "        p += 1\n",
    "    count += 1\n",
    "fps.close()\n"
   ]
  },
  {
   "cell_type": "markdown",
   "metadata": {},
   "source": [
    "### 11) WAP to merge two files and write it in a new file."
   ]
  },
  {
   "cell_type": "code",
   "execution_count": 92,
   "metadata": {},
   "outputs": [
    {
     "data": {
      "text/plain": [
       "94"
      ]
     },
     "execution_count": 92,
     "metadata": {},
     "output_type": "execute_result"
    }
   ],
   "source": [
    "f1 = open('new.txt','r')\n",
    "f2 = open('new1.txt','r')\n",
    "f3 = open('new4.txt','a')\n",
    "\n",
    "f3.write(f1.read())\n",
    "f3.write(f2.read())\n",
    "\n",
    "\n"
   ]
  },
  {
   "cell_type": "markdown",
   "metadata": {},
   "source": [
    "### 12) WAP to replace word1 by word2 of a text file. Write the updated data to new file."
   ]
  },
  {
   "cell_type": "code",
   "execution_count": null,
   "metadata": {},
   "outputs": [],
   "source": []
  },
  {
   "cell_type": "markdown",
   "metadata": {},
   "source": [
    "### 13) Demonstrate tell() and seek() for all the cases(seek from beginning-end-current position) taking a suitable example of your choice."
   ]
  },
  {
   "cell_type": "code",
   "execution_count": null,
   "metadata": {},
   "outputs": [],
   "source": []
  }
 ],
 "metadata": {
  "kernelspec": {
   "display_name": "base",
   "language": "python",
   "name": "python3"
  },
  "language_info": {
   "codemirror_mode": {
    "name": "ipython",
    "version": 3
   },
   "file_extension": ".py",
   "mimetype": "text/x-python",
   "name": "python",
   "nbconvert_exporter": "python",
   "pygments_lexer": "ipython3",
   "version": "3.12.7"
  }
 },
 "nbformat": 4,
 "nbformat_minor": 4
}
