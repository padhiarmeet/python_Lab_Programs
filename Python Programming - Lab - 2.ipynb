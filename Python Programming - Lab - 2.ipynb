{
 "cells": [
  {
   "cell_type": "markdown",
   "metadata": {},
   "source": [
    "\n",
    "<a href='https://www.darshan.ac.in/'> <img src='https://www.darshan.ac.in/Content/media/DU_Logo.svg' width=\"250\" height=\"300\"/></a>\n",
    "<pre>\n",
    "<center><b><h1>Python Programming - 2301CS404</b></center>\n",
    "<center><b><h1>Lab - 2</b></center>    \n",
    "<pre>"
   ]
  },
  {
   "cell_type": "markdown",
   "metadata": {},
   "source": [
    "# if..else.."
   ]
  },
  {
   "cell_type": "markdown",
   "metadata": {},
   "source": [
    "### 01) WAP to check whether the given number is positive or negative."
   ]
  },
  {
   "cell_type": "code",
   "execution_count": null,
   "metadata": {},
   "outputs": [],
   "source": [
    "a = int(input(\"Enter number-\"))\n",
    "if a > 0:\n",
    "    print(\"Number you entered is Positive\")\n",
    "else:\n",
    "    print(\"Number you entered is Negstive\")"
   ]
  },
  {
   "cell_type": "markdown",
   "metadata": {},
   "source": [
    "### 02) WAP to check whether the given number is odd or even."
   ]
  },
  {
   "cell_type": "code",
   "execution_count": 1,
   "metadata": {},
   "outputs": [
    {
     "name": "stdout",
     "output_type": "stream",
     "text": [
      "Number you entered is Even\n"
     ]
    }
   ],
   "source": [
    "a = int(input(\"Enter number-\"))\n",
    "if a % 2 ==0 :\n",
    "    print(\"Number you entered is Even\")\n",
    "else:\n",
    "    print(\"Number you entered is Odd\")"
   ]
  },
  {
   "cell_type": "markdown",
   "metadata": {},
   "source": [
    "### 03) WAP to find out largest number from given two numbers using simple if and ternary operator."
   ]
  },
  {
   "cell_type": "code",
   "execution_count": null,
   "metadata": {},
   "outputs": [
    {
     "name": "stdout",
     "output_type": "stream",
     "text": [
      "B is largest\n"
     ]
    }
   ],
   "source": [
    "a = int(input(\"Enter first number-\"))\n",
    "b = int(input(\"Enter second number-\"))\n",
    "# if a > b :\n",
    "#     print(\"A is Largest\")\n",
    "# elif b > a:\n",
    "#      print(\"A is Largest\")\n",
    "# else:\n",
    "#      print(\"Both are equal\")\n",
    "\n",
    "print(\"A is larger\" if a > b else \"B is largest\")"
   ]
  },
  {
   "cell_type": "markdown",
   "metadata": {},
   "source": [
    "### 04) WAP to find out largest number from given three numbers."
   ]
  },
  {
   "cell_type": "code",
   "execution_count": null,
   "metadata": {},
   "outputs": [],
   "source": [
    "a = int(input(\"Enter first number-\"))\n",
    "b = int(input(\"Enter second number-\"))\n",
    "c = int(input(\"Enter third number-\"))\n",
    "if a > b :\n",
    "    if a > c:\n",
    "         print(\"a is largest\")\n",
    "    else:\n",
    "         print(\"C is largest\")\n",
    "elif b > a :\n",
    "     if b > c:\n",
    "          print(\"b is largest\")\n",
    "     else:\n",
    "        print(\"c is largest\")\n"
   ]
  },
  {
   "cell_type": "markdown",
   "metadata": {},
   "source": [
    "### 05) WAP to check whether the given year is leap year or not.\n",
    "[If a year can be divisible by 4 but not divisible by 100 then it is leap year but if it is divisible by 400 then it is leap year]"
   ]
  },
  {
   "cell_type": "code",
   "execution_count": null,
   "metadata": {},
   "outputs": [],
   "source": [
    "year = int(input(\"Enter a year-\"))\n",
    "\n",
    "if ((year % 4 == 0) and year % 100 != 0) or year % 400 == 0:\n",
    "    print(\"Year is leap year\")\n",
    "else:\n",
    "    print(\"Year is not leap year\")"
   ]
  },
  {
   "cell_type": "markdown",
   "metadata": {
    "slideshow": {
     "slide_type": "slide"
    }
   },
   "source": [
    "06) WAP in python to display the name of the day according to the number given by the user."
   ]
  },
  {
   "cell_type": "code",
   "execution_count": null,
   "metadata": {},
   "outputs": [],
   "source": [
    "a = int(input(\"Enter day-\"))\n",
    "if a == 1:\n",
    "    print(\"Sunday\")\n",
    "elif a==2:\n",
    "    print(\"Monday\")\n",
    "elif a==3:\n",
    "    print(\"Tuesday\")\n",
    "elif a==4:\n",
    "    print(\"Wednesday\")\n",
    "elif a==5:\n",
    "    print(\"Thursday\")\n",
    "elif a==6:\n",
    "    print(\"Friday\")\n",
    "elif a==7:\n",
    "    print(\"Saturday\")\n"
   ]
  },
  {
   "cell_type": "markdown",
   "metadata": {},
   "source": [
    "### 07) WAP to implement simple calculator which performs (add,sub,mul,div) of two no. based on user input."
   ]
  },
  {
   "cell_type": "code",
   "execution_count": null,
   "metadata": {},
   "outputs": [],
   "source": [
    "a = int(input(\"Enter first number\"))\n",
    "b = int(input(\"Enter second number\"))\n",
    "s = input(\"Enter symbol for your oparation - | + | - | * | / | \")\n",
    "\n",
    "if s == '+':\n",
    "    print(f\"ans is {a+b}\")\n",
    "elif s == '-':\n",
    "    print(f\"ans is {a-b}\")\n",
    "elif s == '*':\n",
    "    print(f\"ans is {a*b}\")\n",
    "elif s == '/':\n",
    "    print(f\"ans is {a/b}\")\n",
    "\n"
   ]
  },
  {
   "cell_type": "markdown",
   "metadata": {},
   "source": [
    "### 08) WAP to read marks of five subjects. Calculate percentage and print class accordingly. \n",
    "Fail below 35 </br>\n",
    "Pass Class between 35 to 45 </br>\n",
    "Second Class</br>\n",
    "between 45 to 60</br>\n",
    "First Class between 60 to 70</br> \n",
    "Distinction if more than 70"
   ]
  },
  {
   "cell_type": "code",
   "execution_count": null,
   "metadata": {},
   "outputs": [
    {
     "ename": "SyntaxError",
     "evalue": "expected ':' (1540889324.py, line 11)",
     "output_type": "error",
     "traceback": [
      "\u001b[1;36m  Cell \u001b[1;32mIn[8], line 11\u001b[1;36m\u001b[0m\n\u001b[1;33m    elif per > 35 and per <45\u001b[0m\n\u001b[1;37m                             ^\u001b[0m\n\u001b[1;31mSyntaxError\u001b[0m\u001b[1;31m:\u001b[0m expected ':'\n"
     ]
    }
   ],
   "source": [
    "a1 = int(input(\"Enter first mark\"))\n",
    "a2 = int(input(\"Enter second mark\"))\n",
    "a3 = int(input(\"Enter third mark\"))\n",
    "a4 = int(input(\"Enter forth mark\"))\n",
    "a5 = int(input(\"Enter fifth mark\"))\n",
    "\n",
    "per = (a1 + a2 + a3 + a4 + a5)/5;\n",
    "\n",
    "if per < 35 :\n",
    "    print(\"Fail\")\n",
    "elif per >= 35 and per <45:\n",
    "    print(\"pass\")\n",
    "elif per >= 45 and per <60:\n",
    "    print(\"second class\")\n",
    "elif per >= 60 and per <70:\n",
    "    print(\"first class\")\n",
    "elif per >= 70:\n",
    "    print(\"distincition\")\n",
    "\n",
    "\n",
    "\n"
   ]
  },
  {
   "cell_type": "markdown",
   "metadata": {},
   "source": [
    "### 09) Three sides of a triangle are entered through the keyboard, WAP to check whether the triangle is isosceles, equilateral, scalene or right-angled triangle."
   ]
  },
  {
   "cell_type": "code",
   "execution_count": null,
   "metadata": {},
   "outputs": [
    {
     "name": "stdout",
     "output_type": "stream",
     "text": [
      "scalene\n"
     ]
    }
   ],
   "source": [
    "s1 = int(input(\"Enter first side\"))\n",
    "s2 = int(input(\"Enter second side\"))\n",
    "s3 = int(input(\"Enter third side\"))\n",
    "\n",
    "if s1 == s2 ==s3:\n",
    "    print(\"equilateral\")\n",
    "elif s1 == s2 != s3:\n",
    "    print(\"isoceles\")\n",
    "elif s1 != s2 != s3:\n",
    "    print(\"scalene\")\n",
    "elif s1 ** 2 == s2 **2 + s3 ** 2 or s2 ** 2 == s1 **2 + s3 ** 2 or s3 ** 2 == s1 **2 + s2 ** 2:\n",
    "    print(\"Right angle\")"
   ]
  },
  {
   "cell_type": "markdown",
   "metadata": {},
   "source": [
    "### 10) WAP to find the second largest number among three user input numbers."
   ]
  },
  {
   "cell_type": "code",
   "execution_count": null,
   "metadata": {},
   "outputs": [],
   "source": [
    "a = int(input(\"Enter first number-\"))\n",
    "b = int(input(\"Enter second number-\"))\n",
    "c = int(input(\"Enter third number-\"))\n",
    "if a > b :\n",
    "    if a > c:\n",
    "         print(\"c is largest\")\n",
    "    else:\n",
    "         print(\"a is largest\")\n",
    "elif b > a :\n",
    "     if b > c:\n",
    "          print(\"c is largest\")\n",
    "     else:\n",
    "        print(\"b is largest\")"
   ]
  },
  {
   "cell_type": "markdown",
   "metadata": {},
   "source": [
    "### 11) WAP to calculate electricity bill based on following criteria. Which takes the unit from the user.\n",
    "a. First 1 to 50 units – Rs. 2.60/unit</br>\n",
    "b. Next 50 to 100 units – Rs. 3.25/unit</br>\n",
    "c. Next 100 to 200 units – Rs. 5.26/unit</br>\n",
    "d. above 200 units – Rs. 8.45/unit"
   ]
  },
  {
   "cell_type": "code",
   "execution_count": null,
   "metadata": {},
   "outputs": [],
   "source": [
    "a = int(input(\"Enter first mark\"))  \n"
   ]
  }
 ],
 "metadata": {
  "kernelspec": {
   "display_name": "Python 3",
   "language": "python",
   "name": "python3"
  },
  "language_info": {
   "codemirror_mode": {
    "name": "ipython",
    "version": 3
   },
   "file_extension": ".py",
   "mimetype": "text/x-python",
   "name": "python",
   "nbconvert_exporter": "python",
   "pygments_lexer": "ipython3",
   "version": "3.12.5"
  }
 },
 "nbformat": 4,
 "nbformat_minor": 4
}
