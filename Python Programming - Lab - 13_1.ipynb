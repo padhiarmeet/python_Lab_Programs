{
 "cells": [
  {
   "cell_type": "markdown",
   "metadata": {},
   "source": [
    "<a href='https://www.darshan.ac.in/'> <img src='https://www.darshan.ac.in/Content/media/DU_Logo.svg' width=\"250\" height=\"300\"/></a>\n",
    "<pre>\n",
    "<center><b><h1>Python Programming - 2301CS404</b></center>\n",
    "<center><b><h1>Lab - 13</b></center>\n",
    "<center><b><h1>Padhiyar meet</b> <b>23010101180</b></center>   \n",
    "\n",
    "<pre>"
   ]
  },
  {
   "cell_type": "markdown",
   "metadata": {},
   "source": [
    "# OOP"
   ]
  },
  {
   "cell_type": "markdown",
   "metadata": {},
   "source": [
    "### 01) Write a Program to create a class by name Students, and initialize attributes like name, age, and grade while creating an object."
   ]
  },
  {
   "cell_type": "code",
   "execution_count": 2,
   "metadata": {},
   "outputs": [
    {
     "name": "stdout",
     "output_type": "stream",
     "text": [
      "Name: MEHUL, Age: 69\n"
     ]
    }
   ],
   "source": [
    "class Student:\n",
    "    def __init__(self, name, age):\n",
    "        print(f'Name: {name}, Age: {age}')\n",
    "\n",
    "s1 = Student('MEHUL', 69)"
   ]
  },
  {
   "cell_type": "markdown",
   "metadata": {},
   "source": [
    "### 02) Create a class named Bank_Account with Account_No, User_Name, Email,Account_Type and Account_Balance data members. Also create a method GetAccountDetails() and DisplayAccountDetails(). Create main method to demonstrate the Bank_Account class."
   ]
  },
  {
   "cell_type": "code",
   "execution_count": 9,
   "metadata": {},
   "outputs": [
    {
     "name": "stdout",
     "output_type": "stream",
     "text": [
      "1\n",
      "2\n",
      "3\n",
      "4\n",
      "5\n"
     ]
    }
   ],
   "source": [
    "class Bank_Account:\n",
    "\n",
    "    def GetAccountDetails (self, acc_no, user_name, email, acc_type, balance):\n",
    "        self.acc_no = acc_no \n",
    "        self.user_name = user_name \n",
    "        self.email = email \n",
    "        self.acc_type = acc_type\n",
    "        self.balance = balance\n",
    "        \n",
    "    def DisplayAccountDetails(self):\n",
    "        print(self.acc_no)\n",
    "        print(self.user_name)\n",
    "        print(self.email)\n",
    "        print(self.acc_type)\n",
    "        print(self.balance)\n",
    "        \n",
    "a1 = Bank_Account()\n",
    "a1.GetAccountDetails(1,2,3,4,5)\n",
    "a1.DisplayAccountDetails()"
   ]
  },
  {
   "cell_type": "markdown",
   "metadata": {},
   "source": [
    "### 03) WAP to create Circle class with area and perimeter function to find area and perimeter of circle."
   ]
  },
  {
   "cell_type": "code",
   "execution_count": 11,
   "metadata": {},
   "outputs": [
    {
     "name": "stdout",
     "output_type": "stream",
     "text": [
      "62.800000000000004\n",
      "314.0\n"
     ]
    }
   ],
   "source": [
    "class circle:\n",
    "    def __init__(self, r):\n",
    "        self.r = r\n",
    "        \n",
    "    def calcPerimeter(self):\n",
    "        print(2*3.14*self.r)\n",
    "\n",
    "    def calcArea(self):\n",
    "        print(3.14*(self.r ** 2))\n",
    "        \n",
    "c1 = circle(10)\n",
    "c1.calcPerimeter()\n",
    "c1.calcArea()"
   ]
  },
  {
   "cell_type": "markdown",
   "metadata": {},
   "source": [
    "### 04) Create a class for employees that includes attributes such as name, age, salary, and methods to update and display employee information."
   ]
  },
  {
   "cell_type": "code",
   "execution_count": null,
   "metadata": {},
   "outputs": [
    {
     "name": "stdout",
     "output_type": "stream",
     "text": [
      "1 2 3\n"
     ]
    }
   ],
   "source": [
    "class employee:\n",
    "    def __init__(self, name, age, salary):\n",
    "        self.name = name\n",
    "        self.age = age\n",
    "        self.salary = salary\n",
    "       \n",
    "    def updateUser(self,name,age,salary):\n",
    "        self.name = name\n",
    "        self.age = age\n",
    "        self.salary = salary\n",
    "\n",
    "    def displayUser(self):\n",
    "        print(f'{self.name} {self.age} {self.salary}')\n",
    "\n",
    "e1 = employee(1,2,3)\n",
    "e1.updateUser(4,5,6)\n",
    "e1.displayUser()"
   ]
  },
  {
   "cell_type": "markdown",
   "metadata": {},
   "source": [
    "### 05) Create a bank account class with methods to deposit, withdraw, and check balance."
   ]
  },
  {
   "cell_type": "code",
   "execution_count": null,
   "metadata": {},
   "outputs": [
    {
     "name": "stdout",
     "output_type": "stream",
     "text": [
      "Current Balance:  15000\n"
     ]
    }
   ],
   "source": [
    "class bank:\n",
    "    def __init__(self,cb):\n",
    "        self.cb = cb\n",
    "        \n",
    "    def deposit(self, b):\n",
    "        self.cb += b\n",
    "    \n",
    "    def withdraw(self, b):\n",
    "        if self.cb < b:\n",
    "            print(\"GARIBBBBB\")\n",
    "        else:\n",
    "            self.cb -= b\n",
    "\n",
    "    def display(self):\n",
    "        print(\"Current Balance: \", self.cb)            \n",
    "            \n",
    "b1 = bank(10000)\n",
    "b1.deposit(10000)\n",
    "b1.withdraw(5000)\n",
    "b1.display()\n"
   ]
  },
  {
   "cell_type": "markdown",
   "metadata": {},
   "source": [
    "### 06) Create a class for managing inventory that includes attributes such as item name, price, quantity, and methods to add, remove, and update items."
   ]
  },
  {
   "cell_type": "code",
   "execution_count": 19,
   "metadata": {},
   "outputs": [
    {
     "name": "stdout",
     "output_type": "stream",
     "text": [
      "item added 1\n",
      "item updated 4\n",
      "item removed \n"
     ]
    }
   ],
   "source": [
    "class inv:        \n",
    "    def add(self,name, price, qnt):\n",
    "        self.name = name\n",
    "        self.price = price\n",
    "        self.qnt = qnt\n",
    "        print(f'item added {self.name}')\n",
    "        \n",
    "    def update(self,name, price, qnt):\n",
    "        self.name = name\n",
    "        self.price = price\n",
    "        self.qnt = qnt\n",
    "        print(f'item updated {self.name}')\n",
    "        \n",
    "    def remove(self):\n",
    "        self.name = \"\"\n",
    "        self.price = \"\"\n",
    "        self.qnt = \"\"\n",
    "        print(f'item removed {self.name}')\n",
    "        \n",
    "c1 = inv()\n",
    "c1.add(1,2,3)\n",
    "c1.update(4,5,6)\n",
    "c1.remove()"
   ]
  },
  {
   "cell_type": "markdown",
   "metadata": {},
   "source": [
    "### 07) Create a Class with instance attributes of your choice."
   ]
  },
  {
   "cell_type": "code",
   "execution_count": 22,
   "metadata": {},
   "outputs": [
    {
     "name": "stdout",
     "output_type": "stream",
     "text": [
      "bruce bhai\n",
      "meoweee\n"
     ]
    }
   ],
   "source": [
    "class MaroClass:\n",
    "    def __init__ (self,name):\n",
    "        self.name = name\n",
    "        \n",
    "m1 = MaroClass(\"bruce bhai\")\n",
    "m2 = MaroClass(\"meoweee\")\n",
    "\n",
    "print(m1.name)\n",
    "print(m2.name)"
   ]
  },
  {
   "cell_type": "markdown",
   "metadata": {},
   "source": [
    "### 08) Create one class student_kit\n",
    "#### Within the student_kit class create one class attribute principal name ( Mr ABC )\n",
    "#### Create one attendance method and take input as number of days.\n",
    "#### While creating student take input their name .\n",
    "#### Create one certificate for each student by taking input of number of days present in class."
   ]
  },
  {
   "cell_type": "code",
   "execution_count": 26,
   "metadata": {},
   "outputs": [
    {
     "name": "stdout",
     "output_type": "stream",
     "text": [
      "tamaro badak yo nishade 123 divas hajar rahel chhe\n"
     ]
    }
   ],
   "source": [
    "class student_kit:\n",
    "    prn = \"Mr. Pithadiya\"\n",
    "    def __init__(self, stn):\n",
    "        self.stn = stn\n",
    "    \n",
    "    def atndnc(self, prdays):\n",
    "        self.prdays = prdays\n",
    "        \n",
    "    def cirty(self):\n",
    "        print(f'tamaro badak {self.stn} nishade {self.prdays} divas hajar rahel chhe')\n",
    "        \n",
    "s1 = student_kit(\"yo\")\n",
    "s1.atndnc(123)\n",
    "s1.cirty()\n",
    "        "
   ]
  },
  {
   "cell_type": "markdown",
   "metadata": {},
   "source": [
    "### 09) Define Time class with hour and minute as data member. Also define addition method to add two time objects."
   ]
  },
  {
   "cell_type": "code",
   "execution_count": 31,
   "metadata": {},
   "outputs": [
    {
     "name": "stdout",
     "output_type": "stream",
     "text": [
      "4:30\n"
     ]
    }
   ],
   "source": [
    "class samay:\n",
    "    def __init__(self, hr, m):\n",
    "        self.hr = hr\n",
    "        self.m = m\n",
    "    \n",
    "    def addTimes(self, t1, t2):\n",
    "        self.m = t1.m + t2.m\n",
    "        self.hr = t1.hr + t2.hr\n",
    "        if self.m >= 60:\n",
    "            self.hr += 1\n",
    "            self.m -= 60\n",
    "        \n",
    "        print(f'{self.hr}:{self.m}')\n",
    "\n",
    "s1 = samay(0,0)\n",
    "t1 = samay(1,60)\n",
    "t2 = samay(2,30)\n",
    "s1.addTimes(t1,t2)\n",
    "           "
   ]
  }
 ],
 "metadata": {
  "kernelspec": {
   "display_name": "Python 3",
   "language": "python",
   "name": "python3"
  },
  "language_info": {
   "codemirror_mode": {
    "name": "ipython",
    "version": 3
   },
   "file_extension": ".py",
   "mimetype": "text/x-python",
   "name": "python",
   "nbconvert_exporter": "python",
   "pygments_lexer": "ipython3",
   "version": "3.12.4"
  }
 },
 "nbformat": 4,
 "nbformat_minor": 4
}
